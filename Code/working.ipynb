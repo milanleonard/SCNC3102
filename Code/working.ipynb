{
 "metadata": {
  "language_info": {
   "codemirror_mode": {
    "name": "ipython",
    "version": 3
   },
   "file_extension": ".py",
   "mimetype": "text/x-python",
   "name": "python",
   "nbconvert_exporter": "python",
   "pygments_lexer": "ipython3",
   "version": "3.7.7-final"
  },
  "orig_nbformat": 2,
  "kernelspec": {
   "name": "python_defaultSpec_1600909991130",
   "display_name": "Python 3.7.7 64-bit ('main': conda)",
   "metadata": {
    "interpreter": {
     "hash": "e134e05457d34029b6460cd73bbf1ed73f339b5b6d98c95be70b69eba114fe95"
    }
   }
  }
 },
 "nbformat": 4,
 "nbformat_minor": 2,
 "cells": [
  {
   "cell_type": "code",
   "execution_count": 193,
   "metadata": {},
   "outputs": [],
   "source": [
    "#%% Imports\n",
    "from pennylane import numpy as pnp # get pennylane's numpy wrapper\n",
    "import numpy as np\n",
    "import pennylane as qml\n",
    "from itertools import combinations, groupby\n",
    "import qiskit\n",
    "import random\n",
    "import networkx as nx\n",
    "from pennylane import expval, var\n",
    "from functools import partial\n",
    "from collections import defaultdict\n",
    "import qiskit.providers.aer.noise as noise"
   ]
  },
  {
   "cell_type": "code",
   "execution_count": 192,
   "metadata": {},
   "outputs": [],
   "source": [
    "def qaoa_maxcut_grid_noise(graph, n_layers, shots=5000, NoiseModel=None):\n",
    "\n",
    "    n_wires = len(graph.nodes)\n",
    "    edges = graph.edges\n",
    "\n",
    "    def U_B(beta):\n",
    "        for wire in range(n_wires):\n",
    "            qml.RX(2 * beta, wires=wire)\n",
    "\n",
    "    def U_C(gamma):\n",
    "        for edge in edges:\n",
    "            wire1 = edge[0]\n",
    "            wire2 = edge[1]\n",
    "            qml.CNOT(wires=[wire1, wire2])\n",
    "            qml.RZ(gamma, wires=wire2)\n",
    "            qml.CNOT(wires=[wire1, wire2])\n",
    "    \n",
    "    dev = qml.device(\"qiskit.aer\", wires=n_wires, shots=shots, noise_model=NoiseModel)\n",
    "\n",
    "    @qml.qnode(dev)\n",
    "    def circuit(gammas, betas, edge=None, n_layers=1, n_wires=1):\n",
    "        for wire in range(n_wires):\n",
    "            qml.Hadamard(wires=wire)\n",
    "        for i in range(n_layers):\n",
    "            U_C(gammas[i])\n",
    "            U_B(betas[i])\n",
    "        if edges is None:\n",
    "            # measurement phase\n",
    "            return qml.sample(comp_basis_measurement(range(n_wires)))\n",
    "        \n",
    "        return qml.expval(qml.Hermitian(pauli_z_2, wires=edge))\n",
    "    \n",
    "    init_params = 0.01 * np.random.rand(2, n_layers)\n",
    "    \n",
    "    def obj_wrapper(params):\n",
    "        objstart = partial(objective, params, True, False)\n",
    "        objend = partial(objective, params, False, True)\n",
    "        return np.vectorize(objstart), np.vectorize(objend)\n",
    "    \n",
    "    def objective(params, start=False, end=False, X=None, Y=None):\n",
    "        gammas = params[0]\n",
    "        betas = params[1]\n",
    "        if start:\n",
    "            gammas[0] = X\n",
    "            betas[0] = Y\n",
    "        elif end:\n",
    "            gammas[-1] = X\n",
    "            betas[-1] = Y \n",
    "        neg_obj = 0\n",
    "        for edge in edges:\n",
    "            neg_obj -= 0.5 * (1 - circuit(gammas, betas, edge=edge, n_layers=n_layers, n_wires=n_wires))\n",
    "        return neg_obj\n",
    "    \n",
    "    grid_size = 50\n",
    "    X, Y = np.meshgrid(np.linspace(-np.pi,np.pi,grid_size),np.linspace(-np.pi,np.pi,grid_size))\n",
    "    objstart, objend = obj_wrapper(init_params)\n",
    "    meshgridfirststartparams = objstart(X, Y)\n",
    "    meshgridfirstlastparams = objend(X,Y)\n",
    "\n",
    "    return meshgridfirststartparams, meshgridfirstlastparams"
   ]
  },
  {
   "cell_type": "code",
   "execution_count": 191,
   "metadata": {},
   "outputs": [],
   "source": [
    "noise_args = np.linspace(0,0.1,10)\n",
    "Noise_Models = [noise.NoiseModel() for i in range(10)]\n",
    "for noise_arg, noisemodel in zip(noise_args, Noise_Models):\n",
    "    noisemodel.add_all_qubit_quantum_error(noise.depolarizing_error(noise_arg ,1), ['u1','u2','u3'])"
   ]
  },
  {
   "cell_type": "code",
   "execution_count": 194,
   "metadata": {
    "tags": []
   },
   "outputs": [
    {
     "output_type": "stream",
     "name": "stdout",
     "text": "Starting shots 5000\n"
    }
   ],
   "source": [
    "TEST_G = gnp_random_connected_graph(4,0.2,42)\n",
    "X, Y =  qaoa_maxcut_grid_noise(TEST_G, 3, NoiseModel=Noise_Model)\n",
    "\n"
   ]
  }
 ]
}